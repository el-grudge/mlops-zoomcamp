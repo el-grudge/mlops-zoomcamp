{
 "cells": [
  {
   "cell_type": "markdown",
   "id": "80787510-6117-4f9e-8024-8089f9f66c99",
   "metadata": {},
   "source": [
    "install this for lightgbm\n",
    "\n",
    "```bash\n",
    "sudo apt-get update\n",
    "sudo apt-get install libgomp1\n",
    "```"
   ]
  },
  {
   "cell_type": "code",
   "execution_count": 1,
   "id": "5b0b65b9-f63a-46cd-b218-3812f8883e45",
   "metadata": {},
   "outputs": [],
   "source": [
    "import pickle\n",
    "import numpy as np\n",
    "import pandas as pd\n",
    "from sklearn.model_selection import train_test_split\n",
    "from sklearn.feature_extraction import DictVectorizer\n",
    "from sklearn.metrics import precision_score, recall_score, f1_score, roc_auc_score, accuracy_score\n",
    "import mlflow\n",
    "from mlflow.tracking import MlflowClient\n",
    "from mlflow.entities import ViewType\n",
    "from sklearn.ensemble import RandomForestClassifier\n",
    "from sklearn.linear_model import LogisticRegression\n",
    "from sklearn.neural_network import MLPClassifier\n",
    "from sklearn.svm import SVC\n",
    "from xgboost import XGBClassifier\n",
    "import lightgbm as lgb\n",
    "from hyperopt import fmin, tpe, hp, STATUS_OK, Trials\n",
    "from hyperopt.pyll import scope"
   ]
  },
  {
   "cell_type": "code",
   "execution_count": 2,
   "id": "a5041d54-8aa1-4203-87c1-3bf2d523416c",
   "metadata": {},
   "outputs": [],
   "source": [
    "def load_data():\n",
    "    # load the data\n",
    "    file_url = 'https://archive.ics.uci.edu/static/public/222/data.csv'\n",
    "    df = pd.read_csv(file_url)\n",
    "    return df"
   ]
  },
  {
   "cell_type": "code",
   "execution_count": 3,
   "id": "15b3ea8f-a477-4ab2-b0bc-47d08339e710",
   "metadata": {},
   "outputs": [],
   "source": [
    "def prepare_data(df):\n",
    "    ## data preparation\n",
    "    # convert target var to numerical\n",
    "    df.y = df.y.map({'yes':1,'no':0})\n",
    "\n",
    "    # fill na\n",
    "    df.fillna('unknown', inplace=True)\n",
    "\n",
    "    # drop duration\n",
    "    df.drop('duration', axis=1, inplace=True)\n",
    "\n",
    "    # split the data into train/val/test with 80%/20%\n",
    "    X_train, X_test = train_test_split(df, test_size=np.round(len(df)*.2).astype(int), random_state=42)\n",
    "    \n",
    "    y_train = X_train.y.values\n",
    "    y_test = X_test.y.values\n",
    "\n",
    "    del X_train['y']\n",
    "    del X_test['y']\n",
    "\n",
    "    return X_train, X_test, y_train, y_test"
   ]
  },
  {
   "cell_type": "code",
   "execution_count": 4,
   "id": "30f32897-6b81-4c7b-8771-10a756954bf2",
   "metadata": {},
   "outputs": [],
   "source": [
    "def transform_data(df=pd.DataFrame()):\n",
    "    num = ['age', 'balance', 'day_of_week', 'campaign', 'pdays', 'previous']\n",
    "    cat = ['job', 'housing', 'contact', 'month', 'poutcome']\n",
    "    features = num + cat\n",
    "    df_transformed =  df[features].copy()\n",
    "\n",
    "    # mapping pdays based on conditions\n",
    "    df_transformed['pdays'] = df_transformed['pdays'].apply(lambda x: \n",
    "                                                            'never' if x == -1 \n",
    "                                                            else ('plus 12 months' if x > 365 \n",
    "                                                                  else ('plus 6 months' if 180 <= x <= 365 \n",
    "                                                                        else '6 months'\n",
    "                                                                       )\n",
    "                                                                 )\n",
    "                                                           )\n",
    "    \n",
    "    # mapping previous based on conditions\n",
    "    df_transformed['previous'] = df_transformed['previous'].apply(lambda x: \n",
    "                                                                  'never' if x == 0 \n",
    "                                                                  else ('more than 5' if x > 5 \n",
    "                                                                        else 'less than 5'\n",
    "                                                                       )\n",
    "                                                                 )\n",
    "    \n",
    "    # mapping campaing based on conditions\n",
    "    df_transformed['campaign'] = df_transformed['campaign'].apply(lambda x: \n",
    "                                                                  'once' if x == 1 \n",
    "                                                                  else 'more than once'\n",
    "                                                                 )\n",
    "\n",
    "    # Consolidate categories of categorical features with many categories\n",
    "    seasons = {\n",
    "        'fall': ['sep','oct','nov'],\n",
    "        'winter': ['dec','jan','feb'],\n",
    "        'spring': ['mar','apr','may'],\n",
    "        'summer': ['jun','jul','aug']\n",
    "    }\n",
    "\n",
    "    df_transformed['season'] = [season[0] for mon in df_transformed['month'] for season in list(seasons.items()) if mon in season[1]]\n",
    "    \n",
    "    job_category = {\n",
    "        'cat_1': ['blue-collar','entrepreneur','housemaid'],\n",
    "        'cat_2': ['retired','student','unemployed'],\n",
    "        'cat_3': ['technician', 'admin.', 'management', 'services','unknown', 'self-employed']\n",
    "    }\n",
    "\n",
    "    df_transformed['job_category'] = [category[0] for job in df_transformed['job'] for category in list(job_category.items()) if job in category[1]]\n",
    "    df_transformed = df_transformed.drop(['month','job'], axis=1).copy()\n",
    "    df_transformed['contact'] = ['no' if contact == 'unknown' else 'yes' for contact in df_transformed['contact']]\n",
    "\n",
    "    df_transformed['poutcome'] = [outcome if outcome in ['success', 'failure'] else 'other' for outcome in df_transformed['poutcome']]\n",
    "\n",
    "    return df_transformed.to_dict(orient='records')"
   ]
  },
  {
   "cell_type": "code",
   "execution_count": 5,
   "id": "ca88366c-8a65-4645-a7b4-9df086ec30ce",
   "metadata": {},
   "outputs": [],
   "source": [
    "def model_tracking(MLFLOW_TRACKING_URI, experiment_name, models_list, data):\n",
    "    mlflow.set_tracking_uri(MLFLOW_TRACKING_URI)\n",
    "    mlflow.set_experiment(experiment_name)\n",
    "    \n",
    "    model_classes = models_list\n",
    "    \n",
    "    mlflow.sklearn.autolog()\n",
    "    mlflow.xgboost.autolog()\n",
    "    mlflow.lightgbm.autolog()\n",
    "\n",
    "    X_train, y_train, X_val, y_val = data\n",
    "    \n",
    "    for model_class in model_classes:\n",
    "        with mlflow.start_run():\n",
    "            \n",
    "            mlmodel = model_class()\n",
    "            mlmodel.fit(X_train, y_train)\n",
    "        \n",
    "            y_pred = mlmodel.predict(X_val)\n",
    "            accuracy = accuracy_score(y_val, y_pred)\n",
    "            mlflow.log_metric(\"accuracy\", accuracy)\n",
    "            print(f\"{model_class} achieved an accuracy of {accuracy}\")"
   ]
  },
  {
   "cell_type": "code",
   "execution_count": 6,
   "id": "219351cd-2cab-4eae-9f7e-4a4ef193bdc7",
   "metadata": {},
   "outputs": [],
   "source": [
    "# search runs\n",
    "def search_experiments(experiment_name):\n",
    "    experiment = client.get_experiment_by_name(experiment_name)\n",
    "\n",
    "    runs = client.search_runs(\n",
    "        experiment_ids=experiment.experiment_id,\n",
    "        filter_string=\"metrics.accuracy > 0.885\",\n",
    "        run_view_type=ViewType.ACTIVE_ONLY,\n",
    "        max_results=5,\n",
    "        order_by=[\"metrics.accuracy ASC\"]\n",
    "    )\n",
    "\n",
    "\n",
    "    for run in runs:\n",
    "        print(f\"run id: {run.info.run_id}, accracy: {run.data.metrics['accuracy']:.4f}\")"
   ]
  },
  {
   "cell_type": "code",
   "execution_count": 7,
   "id": "b49c7ee6-820a-40c4-8cb8-26bdfffc8b9f",
   "metadata": {},
   "outputs": [],
   "source": [
    "# resgistering a Model Registry\n",
    "def register_model(run_id, model_name):\n",
    "    model_uri = f\"runs:/{run_id}/model\"\n",
    "    mlflow.register_model(model_uri=model_uri, name=model_name)"
   ]
  },
  {
   "cell_type": "code",
   "execution_count": 8,
   "id": "f7653619-777f-4b91-a81e-af61a7f48784",
   "metadata": {},
   "outputs": [],
   "source": [
    "def transition_stage(version, stage, model_name):\n",
    "    # stage\n",
    "    model_version = version\n",
    "    new_stage = stage\n",
    "    client.transition_model_version_stage(\n",
    "        name=model_name,\n",
    "        version=model_version,\n",
    "        stage=new_stage,\n",
    "        archive_existing_versions=False\n",
    "    )\n",
    "\n",
    "    # updating model version\n",
    "    from datetime import datetime\n",
    "\n",
    "    date = datetime.today().date()\n",
    "    client.update_model_version(\n",
    "        name=model_name,\n",
    "        version=model_version,\n",
    "        description=f\"The model version {model_version} was transitioned to {new_stage} on {date}\"\n",
    "    )"
   ]
  },
  {
   "cell_type": "code",
   "execution_count": 9,
   "id": "88c0210d-218b-41ec-878c-712ae7b7e29a",
   "metadata": {},
   "outputs": [],
   "source": [
    "# compare models\n",
    "def test_model(name, stage_or_version, X_test, y_test):\n",
    "    model = mlflow.pyfunc.load_model(f\"models:/{name}/{stage_or_version}\")\n",
    "    y_pred = model.predict(X_test)\n",
    "    return {\"accuracy\": accuracy_score(y_test, y_pred)}"
   ]
  },
  {
   "cell_type": "markdown",
   "id": "de48710f-e596-4ea5-9da8-f5336b6a72fd",
   "metadata": {},
   "source": [
    "main"
   ]
  },
  {
   "cell_type": "code",
   "execution_count": 10,
   "id": "a7532a19-d659-412d-9417-2f17eafbc108",
   "metadata": {},
   "outputs": [],
   "source": [
    "df = load_data()"
   ]
  },
  {
   "cell_type": "code",
   "execution_count": 11,
   "id": "38fa9477-8660-4340-b614-62162d07675b",
   "metadata": {},
   "outputs": [
    {
     "data": {
      "text/html": [
       "<div>\n",
       "<style scoped>\n",
       "    .dataframe tbody tr th:only-of-type {\n",
       "        vertical-align: middle;\n",
       "    }\n",
       "\n",
       "    .dataframe tbody tr th {\n",
       "        vertical-align: top;\n",
       "    }\n",
       "\n",
       "    .dataframe thead th {\n",
       "        text-align: right;\n",
       "    }\n",
       "</style>\n",
       "<table border=\"1\" class=\"dataframe\">\n",
       "  <thead>\n",
       "    <tr style=\"text-align: right;\">\n",
       "      <th></th>\n",
       "      <th>age</th>\n",
       "      <th>job</th>\n",
       "      <th>marital</th>\n",
       "      <th>education</th>\n",
       "      <th>default</th>\n",
       "      <th>balance</th>\n",
       "      <th>housing</th>\n",
       "      <th>loan</th>\n",
       "      <th>contact</th>\n",
       "      <th>day_of_week</th>\n",
       "      <th>month</th>\n",
       "      <th>duration</th>\n",
       "      <th>campaign</th>\n",
       "      <th>pdays</th>\n",
       "      <th>previous</th>\n",
       "      <th>poutcome</th>\n",
       "      <th>y</th>\n",
       "    </tr>\n",
       "  </thead>\n",
       "  <tbody>\n",
       "    <tr>\n",
       "      <th>0</th>\n",
       "      <td>58</td>\n",
       "      <td>management</td>\n",
       "      <td>married</td>\n",
       "      <td>tertiary</td>\n",
       "      <td>no</td>\n",
       "      <td>2143</td>\n",
       "      <td>yes</td>\n",
       "      <td>no</td>\n",
       "      <td>NaN</td>\n",
       "      <td>5</td>\n",
       "      <td>may</td>\n",
       "      <td>261</td>\n",
       "      <td>1</td>\n",
       "      <td>-1</td>\n",
       "      <td>0</td>\n",
       "      <td>NaN</td>\n",
       "      <td>no</td>\n",
       "    </tr>\n",
       "    <tr>\n",
       "      <th>1</th>\n",
       "      <td>44</td>\n",
       "      <td>technician</td>\n",
       "      <td>single</td>\n",
       "      <td>secondary</td>\n",
       "      <td>no</td>\n",
       "      <td>29</td>\n",
       "      <td>yes</td>\n",
       "      <td>no</td>\n",
       "      <td>NaN</td>\n",
       "      <td>5</td>\n",
       "      <td>may</td>\n",
       "      <td>151</td>\n",
       "      <td>1</td>\n",
       "      <td>-1</td>\n",
       "      <td>0</td>\n",
       "      <td>NaN</td>\n",
       "      <td>no</td>\n",
       "    </tr>\n",
       "    <tr>\n",
       "      <th>2</th>\n",
       "      <td>33</td>\n",
       "      <td>entrepreneur</td>\n",
       "      <td>married</td>\n",
       "      <td>secondary</td>\n",
       "      <td>no</td>\n",
       "      <td>2</td>\n",
       "      <td>yes</td>\n",
       "      <td>yes</td>\n",
       "      <td>NaN</td>\n",
       "      <td>5</td>\n",
       "      <td>may</td>\n",
       "      <td>76</td>\n",
       "      <td>1</td>\n",
       "      <td>-1</td>\n",
       "      <td>0</td>\n",
       "      <td>NaN</td>\n",
       "      <td>no</td>\n",
       "    </tr>\n",
       "    <tr>\n",
       "      <th>3</th>\n",
       "      <td>47</td>\n",
       "      <td>blue-collar</td>\n",
       "      <td>married</td>\n",
       "      <td>NaN</td>\n",
       "      <td>no</td>\n",
       "      <td>1506</td>\n",
       "      <td>yes</td>\n",
       "      <td>no</td>\n",
       "      <td>NaN</td>\n",
       "      <td>5</td>\n",
       "      <td>may</td>\n",
       "      <td>92</td>\n",
       "      <td>1</td>\n",
       "      <td>-1</td>\n",
       "      <td>0</td>\n",
       "      <td>NaN</td>\n",
       "      <td>no</td>\n",
       "    </tr>\n",
       "    <tr>\n",
       "      <th>4</th>\n",
       "      <td>33</td>\n",
       "      <td>NaN</td>\n",
       "      <td>single</td>\n",
       "      <td>NaN</td>\n",
       "      <td>no</td>\n",
       "      <td>1</td>\n",
       "      <td>no</td>\n",
       "      <td>no</td>\n",
       "      <td>NaN</td>\n",
       "      <td>5</td>\n",
       "      <td>may</td>\n",
       "      <td>198</td>\n",
       "      <td>1</td>\n",
       "      <td>-1</td>\n",
       "      <td>0</td>\n",
       "      <td>NaN</td>\n",
       "      <td>no</td>\n",
       "    </tr>\n",
       "  </tbody>\n",
       "</table>\n",
       "</div>"
      ],
      "text/plain": [
       "   age           job  marital  education default  balance housing loan  \\\n",
       "0   58    management  married   tertiary      no     2143     yes   no   \n",
       "1   44    technician   single  secondary      no       29     yes   no   \n",
       "2   33  entrepreneur  married  secondary      no        2     yes  yes   \n",
       "3   47   blue-collar  married        NaN      no     1506     yes   no   \n",
       "4   33           NaN   single        NaN      no        1      no   no   \n",
       "\n",
       "  contact  day_of_week month  duration  campaign  pdays  previous poutcome   y  \n",
       "0     NaN            5   may       261         1     -1         0      NaN  no  \n",
       "1     NaN            5   may       151         1     -1         0      NaN  no  \n",
       "2     NaN            5   may        76         1     -1         0      NaN  no  \n",
       "3     NaN            5   may        92         1     -1         0      NaN  no  \n",
       "4     NaN            5   may       198         1     -1         0      NaN  no  "
      ]
     },
     "execution_count": 11,
     "metadata": {},
     "output_type": "execute_result"
    }
   ],
   "source": [
    "df.head()"
   ]
  },
  {
   "cell_type": "code",
   "execution_count": 12,
   "id": "e766cad1-b45a-45fe-b73b-2e7ca8614386",
   "metadata": {},
   "outputs": [
    {
     "data": {
      "text/plain": [
       "y\n",
       "no     88.30152\n",
       "yes    11.69848\n",
       "Name: proportion, dtype: float64"
      ]
     },
     "execution_count": 12,
     "metadata": {},
     "output_type": "execute_result"
    }
   ],
   "source": [
    "df.y.value_counts(normalize=True)*100"
   ]
  },
  {
   "cell_type": "code",
   "execution_count": 13,
   "id": "684bf625-1d31-477f-aedf-ddfa3a1ea91c",
   "metadata": {},
   "outputs": [],
   "source": [
    "# prepare data\n",
    "X_train, X_val, y_train, y_val = prepare_data(df)"
   ]
  },
  {
   "cell_type": "code",
   "execution_count": 14,
   "id": "b6bf22e8-0ee2-41e4-88ee-0fabed0462c4",
   "metadata": {},
   "outputs": [
    {
     "data": {
      "text/plain": [
       "0    88.393376\n",
       "1    11.606624\n",
       "Name: proportion, dtype: float64"
      ]
     },
     "execution_count": 14,
     "metadata": {},
     "output_type": "execute_result"
    }
   ],
   "source": [
    "pd.Series(y_train).value_counts(normalize=True)*100"
   ]
  },
  {
   "cell_type": "code",
   "execution_count": 15,
   "id": "24560972-4abe-4701-9352-cc3f30904c82",
   "metadata": {},
   "outputs": [
    {
     "data": {
      "text/plain": [
       "0    87.934085\n",
       "1    12.065915\n",
       "Name: proportion, dtype: float64"
      ]
     },
     "execution_count": 15,
     "metadata": {},
     "output_type": "execute_result"
    }
   ],
   "source": [
    "pd.Series(y_val).value_counts(normalize=True)*100"
   ]
  },
  {
   "cell_type": "code",
   "execution_count": 16,
   "id": "5e353ebf-ee31-4672-889a-ddf5d95e6260",
   "metadata": {},
   "outputs": [],
   "source": [
    "# transform data \n",
    "data_transformer = transform_data\n",
    "X_train, X_val = data_transformer(X_train), data_transformer(X_val)"
   ]
  },
  {
   "cell_type": "code",
   "execution_count": 17,
   "id": "50945297-49a0-47f7-a791-e3cc441354a9",
   "metadata": {},
   "outputs": [],
   "source": [
    "dv = DictVectorizer()\n",
    "dv.fit(X_train)\n",
    "\n",
    "X_train = dv.transform(X_train)\n",
    "X_val = dv.transform(X_val)"
   ]
  },
  {
   "cell_type": "markdown",
   "id": "a21f3ea1-2e43-4bef-a3fb-ca0538f8a86d",
   "metadata": {},
   "source": [
    "model tracking"
   ]
  },
  {
   "cell_type": "markdown",
   "id": "1c32deac-3fcb-4a66-9157-5c53179bba8d",
   "metadata": {},
   "source": [
    "start mlflow\n",
    "\n",
    "```bash\n",
    "mlflow ui --backend-store-uri sqlite:///mlflow.db\n",
    "```"
   ]
  },
  {
   "cell_type": "code",
   "execution_count": 11,
   "id": "7b7fc788-b39d-4d0d-8fad-04e0d394ce10",
   "metadata": {},
   "outputs": [
    {
     "name": "stderr",
     "output_type": "stream",
     "text": [
      "2024/07/06 03:09:28 WARNING mlflow.utils.autologging_utils: You are using an unsupported version of xgboost. If you encounter errors during autologging, try upgrading / downgrading xgboost to a supported version, or try upgrading MLflow.\n",
      "2024/07/06 03:09:28 WARNING mlflow.utils.autologging_utils: You are using an unsupported version of lightgbm. If you encounter errors during autologging, try upgrading / downgrading lightgbm to a supported version, or try upgrading MLflow.\n",
      "2024/07/06 03:09:29 WARNING mlflow.sklearn: Failed to log training dataset information to MLflow Tracking. Reason: 'numpy.ndarray' object has no attribute 'toarray'\n"
     ]
    },
    {
     "name": "stdout",
     "output_type": "stream",
     "text": [
      "<class 'sklearn.ensemble._forest.RandomForestClassifier'> achieved an accuracy of 0.8837646538376466\n"
     ]
    },
    {
     "name": "stderr",
     "output_type": "stream",
     "text": [
      "2024/07/06 03:10:01 WARNING mlflow.utils.autologging_utils: MLflow autologging encountered a warning: \"/home/minasonbol/mlops-zoomcamp/mlops/lib/python3.10/site-packages/xgboost/core.py:158: UserWarning: [03:10:01] WARNING: /workspace/src/c_api/c_api.cc:1374: Saving model in the UBJSON format as default.  You can use file extension: `json`, `ubj` or `deprecated` to choose between formats.\"\n"
     ]
    },
    {
     "name": "stdout",
     "output_type": "stream",
     "text": [
      "<class 'xgboost.sklearn.XGBClassifier'> achieved an accuracy of 0.8864189338641894\n",
      "[LightGBM] [Info] Number of positive: 4198, number of negative: 31971\n",
      "[LightGBM] [Info] Auto-choosing row-wise multi-threading, the overhead of testing was 0.003093 seconds.\n",
      "You can set `force_row_wise=true` to remove the overhead.\n",
      "And if memory is not enough, you can set `force_col_wise=true`.\n",
      "[LightGBM] [Info] Total Bins 407\n",
      "[LightGBM] [Info] Number of data points in the train set: 36169, number of used features: 26\n",
      "[LightGBM] [Info] [binary:BoostFromScore]: pavg=0.116066 -> initscore=-2.030221\n",
      "[LightGBM] [Info] Start training from score -2.030221\n"
     ]
    },
    {
     "name": "stderr",
     "output_type": "stream",
     "text": [
      "2024/07/06 03:10:05 WARNING mlflow.sklearn: Failed to log training dataset information to MLflow Tracking. Reason: 'numpy.ndarray' object has no attribute 'toarray'\n"
     ]
    },
    {
     "name": "stdout",
     "output_type": "stream",
     "text": [
      "<class 'lightgbm.sklearn.LGBMClassifier'> achieved an accuracy of 0.8909533289095333\n"
     ]
    },
    {
     "name": "stderr",
     "output_type": "stream",
     "text": [
      "/home/minasonbol/mlops-zoomcamp/mlops/lib/python3.10/site-packages/sklearn/linear_model/_logistic.py:469: ConvergenceWarning: lbfgs failed to converge (status=1):\n",
      "STOP: TOTAL NO. of ITERATIONS REACHED LIMIT.\n",
      "\n",
      "Increase the number of iterations (max_iter) or scale the data as shown in:\n",
      "    https://scikit-learn.org/stable/modules/preprocessing.html\n",
      "Please also refer to the documentation for alternative solver options:\n",
      "    https://scikit-learn.org/stable/modules/linear_model.html#logistic-regression\n",
      "  n_iter_i = _check_optimize_result(\n",
      "2024/07/06 03:10:07 WARNING mlflow.sklearn: Failed to log training dataset information to MLflow Tracking. Reason: 'numpy.ndarray' object has no attribute 'toarray'\n"
     ]
    },
    {
     "name": "stdout",
     "output_type": "stream",
     "text": [
      "<class 'sklearn.linear_model._logistic.LogisticRegression'> achieved an accuracy of 0.8853129838531298\n"
     ]
    },
    {
     "name": "stderr",
     "output_type": "stream",
     "text": [
      "2024/07/06 03:11:29 WARNING mlflow.sklearn: Failed to log training dataset information to MLflow Tracking. Reason: 'numpy.ndarray' object has no attribute 'toarray'\n"
     ]
    },
    {
     "name": "stdout",
     "output_type": "stream",
     "text": [
      "<class 'sklearn.svm._classes.SVC'> achieved an accuracy of 0.8793408537934085\n",
      "<class 'sklearn.neural_network._multilayer_perceptron.MLPClassifier'> achieved an accuracy of 0.7986065029860651\n"
     ]
    }
   ],
   "source": [
    "MLFLOW_TRACKING_URI = \"sqlite:///mlflow.db\"\n",
    "experiment_name = \"bank-marketing-5\"\n",
    "\n",
    "mlflow.set_tracking_uri(MLFLOW_TRACKING_URI)\n",
    "mlflow.set_experiment(experiment_name)\n",
    "\n",
    "model_classes = [\n",
    "    RandomForestClassifier,\n",
    "    XGBClassifier,\n",
    "    lgb.LGBMClassifier,\n",
    "    LogisticRegression,\n",
    "    SVC,\n",
    "    MLPClassifier\n",
    "]\n",
    "\n",
    "data = (X_train, y_train, X_val, y_val)\n",
    "\n",
    "model_tracking(MLFLOW_TRACKING_URI, experiment_name, model_classes, data)"
   ]
  },
  {
   "cell_type": "markdown",
   "id": "d2008268-87b6-4050-a69d-96c7e6a10d29",
   "metadata": {},
   "source": [
    "model registry"
   ]
  },
  {
   "cell_type": "code",
   "execution_count": 12,
   "id": "758df38e-fff1-4ba5-ac05-c01640d9d074",
   "metadata": {},
   "outputs": [
    {
     "data": {
      "text/plain": [
       "[<Experiment: artifact_location='/home/minasonbol/mlops-zoomcamp/capstone/mlruns/6', creation_time=1720229445519, experiment_id='6', last_update_time=1720229445519, lifecycle_stage='active', name='bank-marketing-5', tags={}>,\n",
       " <Experiment: artifact_location='/home/minasonbol/mlops-zoomcamp/capstone/mlruns/5', creation_time=1720228890385, experiment_id='5', last_update_time=1720228890385, lifecycle_stage='active', name='bank-marketing-4', tags={}>,\n",
       " <Experiment: artifact_location='/home/minasonbol/mlops-zoomcamp/capstone/mlruns/4', creation_time=1720210388823, experiment_id='4', last_update_time=1720210388823, lifecycle_stage='active', name='bank-marketing-3', tags={}>,\n",
       " <Experiment: artifact_location='/home/minasonbol/mlops-zoomcamp/capstone/mlruns/3', creation_time=1720208940813, experiment_id='3', last_update_time=1720208940813, lifecycle_stage='active', name='bank-marketing-2', tags={}>,\n",
       " <Experiment: artifact_location='/home/minasonbol/mlops-zoomcamp/capstone/mlruns/2', creation_time=1720208722071, experiment_id='2', last_update_time=1720208894530, lifecycle_stage='deleted', name='bank-marketing', tags={}>,\n",
       " <Experiment: artifact_location='/home/minasonbol/mlops-zoomcamp/capstone/mlruns/1', creation_time=1720208205437, experiment_id='1', last_update_time=1720208205437, lifecycle_stage='active', name='nyc-taxi-experiment', tags={}>,\n",
       " <Experiment: artifact_location='mlflow-artifacts:/0', creation_time=1720208134931, experiment_id='0', last_update_time=1720208134931, lifecycle_stage='active', name='Default', tags={}>]"
      ]
     },
     "execution_count": 12,
     "metadata": {},
     "output_type": "execute_result"
    }
   ],
   "source": [
    "# initiate mlflow client\n",
    "client = MlflowClient(tracking_uri=MLFLOW_TRACKING_URI)\n",
    "\n",
    "client.search_experiments(view_type=ViewType.ALL)"
   ]
  },
  {
   "cell_type": "code",
   "execution_count": 14,
   "id": "73eb8869-abc9-4e32-9fe2-910259f44a21",
   "metadata": {},
   "outputs": [
    {
     "name": "stdout",
     "output_type": "stream",
     "text": [
      "run id: c11900639edf45afbeca3ec36b3988a2, accracy: 0.8853\n",
      "run id: facd28b22bfb4d0997b95842e5b3d339, accracy: 0.8853\n",
      "run id: 717aeb979f0046b9905346c14cad3bd4, accracy: 0.8864\n",
      "run id: 9ce9a73d85f9471da1c467a00a9da29e, accracy: 0.8864\n",
      "run id: d4444bbdecb44d9387aa8e84120854bb, accracy: 0.8910\n"
     ]
    }
   ],
   "source": [
    "# search runs\n",
    "search_experiments(experiment_name)"
   ]
  },
  {
   "cell_type": "code",
   "execution_count": 17,
   "id": "d039e262-bf93-4b29-9aa8-130090d0aaec",
   "metadata": {},
   "outputs": [
    {
     "name": "stderr",
     "output_type": "stream",
     "text": [
      "Successfully registered model 'bank_marketing'.\n",
      "Created version '1' of model 'bank_marketing'.\n",
      "Registered model 'bank_marketing' already exists. Creating a new version of this model...\n",
      "Created version '2' of model 'bank_marketing'.\n",
      "Registered model 'bank_marketing' already exists. Creating a new version of this model...\n",
      "Created version '3' of model 'bank_marketing'.\n",
      "Registered model 'bank_marketing' already exists. Creating a new version of this model...\n",
      "Created version '4' of model 'bank_marketing'.\n"
     ]
    }
   ],
   "source": [
    "model_name = 'bank_marketing'\n",
    "\n",
    "run_id = \"facd28b22bfb4d0997b95842e5b3d339\"\n",
    "register_model(run_id, model_name)\n",
    "\n",
    "run_id = \"717aeb979f0046b9905346c14cad3bd4\"\n",
    "register_model(run_id, model_name)\n",
    "\n",
    "run_id = \"9ce9a73d85f9471da1c467a00a9da29e\"\n",
    "register_model(run_id, model_name)\n",
    "\n",
    "run_id = \"d4444bbdecb44d9387aa8e84120854bb\"\n",
    "register_model(run_id, model_name)"
   ]
  },
  {
   "cell_type": "code",
   "execution_count": 24,
   "id": "2551134d-8739-4b71-b1aa-0077e52f9ac5",
   "metadata": {},
   "outputs": [
    {
     "name": "stdout",
     "output_type": "stream",
     "text": [
      "CPU times: user 26.7 ms, sys: 0 ns, total: 26.7 ms\n",
      "Wall time: 26.7 ms\n"
     ]
    },
    {
     "name": "stderr",
     "output_type": "stream",
     "text": [
      "/tmp/ipykernel_8230/2753276202.py:5: FutureWarning: ``mlflow.tracking.client.MlflowClient.transition_model_version_stage`` is deprecated since 2.9.0. Model registry stages will be removed in a future major release. To learn more about the deprecation of model registry stages, see our migration guide here: https://mlflow.org/docs/2.13.0/model-registry.html#migrating-from-stages\n",
      "  client.transition_model_version_stage(\n",
      "/home/minasonbol/mlops-zoomcamp/mlops/lib/python3.10/site-packages/mlflow/store/artifact/utils/models.py:32: FutureWarning: ``mlflow.tracking.client.MlflowClient.get_latest_versions`` is deprecated since 2.9.0. Model registry stages will be removed in a future major release. To learn more about the deprecation of model registry stages, see our migration guide here: https://mlflow.org/docs/2.13.0/model-registry.html#migrating-from-stages\n",
      "  latest = client.get_latest_versions(name, None if stage is None else [stage])\n"
     ]
    },
    {
     "data": {
      "text/plain": [
       "{'accuracy': 0.8853129838531298}"
      ]
     },
     "execution_count": 24,
     "metadata": {},
     "output_type": "execute_result"
    }
   ],
   "source": [
    "version = 1\n",
    "stage = \"Staging\"\n",
    "transition_stage(version, stage, model_name)\n",
    "%time test_model(model_name, stage, X_val, y_val)"
   ]
  },
  {
   "cell_type": "code",
   "execution_count": 25,
   "id": "b24f511f-9f59-488c-96db-7735fb20af1d",
   "metadata": {},
   "outputs": [
    {
     "name": "stdout",
     "output_type": "stream",
     "text": [
      "CPU times: user 98 ms, sys: 0 ns, total: 98 ms\n",
      "Wall time: 42.9 ms\n"
     ]
    },
    {
     "name": "stderr",
     "output_type": "stream",
     "text": [
      "/tmp/ipykernel_8230/2753276202.py:5: FutureWarning: ``mlflow.tracking.client.MlflowClient.transition_model_version_stage`` is deprecated since 2.9.0. Model registry stages will be removed in a future major release. To learn more about the deprecation of model registry stages, see our migration guide here: https://mlflow.org/docs/2.13.0/model-registry.html#migrating-from-stages\n",
      "  client.transition_model_version_stage(\n",
      "/home/minasonbol/mlops-zoomcamp/mlops/lib/python3.10/site-packages/mlflow/store/artifact/utils/models.py:32: FutureWarning: ``mlflow.tracking.client.MlflowClient.get_latest_versions`` is deprecated since 2.9.0. Model registry stages will be removed in a future major release. To learn more about the deprecation of model registry stages, see our migration guide here: https://mlflow.org/docs/2.13.0/model-registry.html#migrating-from-stages\n",
      "  latest = client.get_latest_versions(name, None if stage is None else [stage])\n"
     ]
    },
    {
     "data": {
      "text/plain": [
       "{'accuracy': 0.8864189338641894}"
      ]
     },
     "execution_count": 25,
     "metadata": {},
     "output_type": "execute_result"
    }
   ],
   "source": [
    "version = 2\n",
    "stage = \"Staging\"\n",
    "transition_stage(version, stage, model_name)\n",
    "%time test_model(model_name, stage, X_val, y_val)"
   ]
  },
  {
   "cell_type": "code",
   "execution_count": 26,
   "id": "a29ab339-9a72-487e-9217-0341fc1c4a1b",
   "metadata": {},
   "outputs": [
    {
     "name": "stdout",
     "output_type": "stream",
     "text": [
      "CPU times: user 96.7 ms, sys: 3.26 ms, total: 100 ms\n",
      "Wall time: 48.5 ms\n"
     ]
    },
    {
     "name": "stderr",
     "output_type": "stream",
     "text": [
      "/tmp/ipykernel_8230/2753276202.py:5: FutureWarning: ``mlflow.tracking.client.MlflowClient.transition_model_version_stage`` is deprecated since 2.9.0. Model registry stages will be removed in a future major release. To learn more about the deprecation of model registry stages, see our migration guide here: https://mlflow.org/docs/2.13.0/model-registry.html#migrating-from-stages\n",
      "  client.transition_model_version_stage(\n",
      "/home/minasonbol/mlops-zoomcamp/mlops/lib/python3.10/site-packages/mlflow/store/artifact/utils/models.py:32: FutureWarning: ``mlflow.tracking.client.MlflowClient.get_latest_versions`` is deprecated since 2.9.0. Model registry stages will be removed in a future major release. To learn more about the deprecation of model registry stages, see our migration guide here: https://mlflow.org/docs/2.13.0/model-registry.html#migrating-from-stages\n",
      "  latest = client.get_latest_versions(name, None if stage is None else [stage])\n"
     ]
    },
    {
     "data": {
      "text/plain": [
       "{'accuracy': 0.8864189338641894}"
      ]
     },
     "execution_count": 26,
     "metadata": {},
     "output_type": "execute_result"
    }
   ],
   "source": [
    "version = 3\n",
    "stage = \"Staging\"\n",
    "transition_stage(version, stage, model_name)\n",
    "%time test_model(model_name, stage, X_val, y_val)"
   ]
  },
  {
   "cell_type": "code",
   "execution_count": 27,
   "id": "b6ace9c3-7105-41e2-98dc-7c2631b6f2a5",
   "metadata": {},
   "outputs": [
    {
     "name": "stdout",
     "output_type": "stream",
     "text": [
      "CPU times: user 59.1 ms, sys: 3.85 ms, total: 63 ms\n",
      "Wall time: 47.2 ms\n"
     ]
    },
    {
     "name": "stderr",
     "output_type": "stream",
     "text": [
      "/tmp/ipykernel_8230/2753276202.py:5: FutureWarning: ``mlflow.tracking.client.MlflowClient.transition_model_version_stage`` is deprecated since 2.9.0. Model registry stages will be removed in a future major release. To learn more about the deprecation of model registry stages, see our migration guide here: https://mlflow.org/docs/2.13.0/model-registry.html#migrating-from-stages\n",
      "  client.transition_model_version_stage(\n",
      "/home/minasonbol/mlops-zoomcamp/mlops/lib/python3.10/site-packages/mlflow/store/artifact/utils/models.py:32: FutureWarning: ``mlflow.tracking.client.MlflowClient.get_latest_versions`` is deprecated since 2.9.0. Model registry stages will be removed in a future major release. To learn more about the deprecation of model registry stages, see our migration guide here: https://mlflow.org/docs/2.13.0/model-registry.html#migrating-from-stages\n",
      "  latest = client.get_latest_versions(name, None if stage is None else [stage])\n"
     ]
    },
    {
     "data": {
      "text/plain": [
       "{'accuracy': 0.8909533289095333}"
      ]
     },
     "execution_count": 27,
     "metadata": {},
     "output_type": "execute_result"
    }
   ],
   "source": [
    "version = 4\n",
    "stage = \"Staging\"\n",
    "transition_stage(version, stage, model_name)\n",
    "%time test_model(model_name, stage, X_val, y_val)"
   ]
  },
  {
   "cell_type": "code",
   "execution_count": 28,
   "id": "3ce0a9ad-e158-4cd8-8a6e-6122ea89cc81",
   "metadata": {},
   "outputs": [
    {
     "name": "stderr",
     "output_type": "stream",
     "text": [
      "/tmp/ipykernel_8230/2753276202.py:5: FutureWarning: ``mlflow.tracking.client.MlflowClient.transition_model_version_stage`` is deprecated since 2.9.0. Model registry stages will be removed in a future major release. To learn more about the deprecation of model registry stages, see our migration guide here: https://mlflow.org/docs/2.13.0/model-registry.html#migrating-from-stages\n",
      "  client.transition_model_version_stage(\n"
     ]
    }
   ],
   "source": [
    "version = 1\n",
    "stage = \"Production\"\n",
    "transition_stage(version, stage, model_name)"
   ]
  },
  {
   "cell_type": "code",
   "execution_count": 29,
   "id": "6515f412-27bf-4c14-9e78-fcdeefb60c02",
   "metadata": {},
   "outputs": [
    {
     "name": "stderr",
     "output_type": "stream",
     "text": [
      "/tmp/ipykernel_8230/2753276202.py:5: FutureWarning: ``mlflow.tracking.client.MlflowClient.transition_model_version_stage`` is deprecated since 2.9.0. Model registry stages will be removed in a future major release. To learn more about the deprecation of model registry stages, see our migration guide here: https://mlflow.org/docs/2.13.0/model-registry.html#migrating-from-stages\n",
      "  client.transition_model_version_stage(\n"
     ]
    }
   ],
   "source": [
    "version = 4\n",
    "stage = \"Production\"\n",
    "transition_stage(version, stage, model_name)"
   ]
  },
  {
   "cell_type": "code",
   "execution_count": null,
   "id": "ebb854d0-8d81-4ad9-853c-2a8032b893f3",
   "metadata": {},
   "outputs": [],
   "source": []
  },
  {
   "cell_type": "code",
   "execution_count": null,
   "id": "2049467e-9e25-4c0e-96e9-d82d99cc021b",
   "metadata": {},
   "outputs": [],
   "source": []
  },
  {
   "cell_type": "code",
   "execution_count": null,
   "id": "1d295b39-5688-4119-89ba-8748e0687d32",
   "metadata": {},
   "outputs": [],
   "source": []
  },
  {
   "cell_type": "code",
   "execution_count": null,
   "id": "778e0172-4a45-4771-ba0b-b846842920d1",
   "metadata": {},
   "outputs": [],
   "source": []
  },
  {
   "cell_type": "code",
   "execution_count": null,
   "id": "399e52ad-5e67-4d55-a9d3-cab527b1be05",
   "metadata": {},
   "outputs": [],
   "source": []
  }
 ],
 "metadata": {
  "kernelspec": {
   "display_name": "Python 3 (ipykernel)",
   "language": "python",
   "name": "python3"
  },
  "language_info": {
   "codemirror_mode": {
    "name": "ipython",
    "version": 3
   },
   "file_extension": ".py",
   "mimetype": "text/x-python",
   "name": "python",
   "nbconvert_exporter": "python",
   "pygments_lexer": "ipython3",
   "version": "3.10.12"
  }
 },
 "nbformat": 4,
 "nbformat_minor": 5
}
